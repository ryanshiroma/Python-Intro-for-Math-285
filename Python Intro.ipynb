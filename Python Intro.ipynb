{
 "cells": [
  {
   "cell_type": "markdown",
   "metadata": {},
   "source": [
    "# Introduction to Python for Math 285"
   ]
  },
  {
   "cell_type": "markdown",
   "metadata": {},
   "source": [
    "1) Install [__PyCharm__](https://www.jetbrains.com/pycharm/download/) and [__Anaconda__](https://www.continuum.io/downloads)\n",
    "    - Both Python versions 2.7 and 3.5 will work fine for this course.  \n",
    "    - Download the free \"Community\" version of PyCharm.  \n",
    "2) Open __PyCharm__ and start a new project \n",
    "  "
   ]
  },
  {
   "cell_type": "markdown",
   "metadata": {},
   "source": [
    "3) Copy all four digit data files and the two python files from [Dr. Chen's google drive](https://drive.google.com/drive/u/0/folders/0B2geqxdagjpOMXQwUGNwdjVneVU) to your project folder.\n",
    "      "
   ]
  },
  {
   "cell_type": "markdown",
   "metadata": {},
   "source": [
    "## Getting started with the \"main.py\" script file\n",
    "### Basic Python Syntax"
   ]
  },
  {
   "cell_type": "markdown",
   "metadata": {},
   "source": [
    "Now that we have the program set up, let's take a look at the basic syntax for Python. Like most programming languages, we can assign a value to a variable, say, *__a__* as follows: \n"
   ]
  },
  {
   "cell_type": "code",
   "execution_count": 1,
   "metadata": {
    "collapsed": false
   },
   "outputs": [],
   "source": [
    "a=1"
   ]
  },
  {
   "cell_type": "markdown",
   "metadata": {},
   "source": [
    "*NOTE:* semicolons aren't used like MATLAB to suppress output!  \n",
    "So if you want to see the output of a line of code you will need to use the *__print()__* function."
   ]
  },
  {
   "cell_type": "code",
   "execution_count": 2,
   "metadata": {
    "collapsed": false
   },
   "outputs": [
    {
     "name": "stdout",
     "output_type": "stream",
     "text": [
      "1\n"
     ]
    }
   ],
   "source": [
    "print(a)"
   ]
  },
  {
   "cell_type": "markdown",
   "metadata": {},
   "source": [
    "### Importing Numpy\n",
    "The vast majority of the functions needed for this class will use the *__numpy__* library."
   ]
  },
  {
   "cell_type": "code",
   "execution_count": 3,
   "metadata": {
    "collapsed": false
   },
   "outputs": [],
   "source": [
    "import numpy as np"
   ]
  },
  {
   "cell_type": "markdown",
   "metadata": {},
   "source": [
    "__Numpy Arrays__: The most important data structure for this class are matrices for which we can quickly apply some linear algebra. *__numpy__* arrays are probably the most flexible for the purposes of this class.  \n",
    "To create matrices and vectors we'll need to use the numpy function *__np.array()__*. \n",
    "We'll start with a 1x3 row vector and a 3x1 column vector."
   ]
  },
  {
   "cell_type": "code",
   "execution_count": 19,
   "metadata": {
    "collapsed": false
   },
   "outputs": [],
   "source": [
    "b = np.array( [[1,2,3]] ) \n",
    "c = np.array( [[1],[2],[3]] )"
   ]
  },
  {
   "cell_type": "code",
   "execution_count": 20,
   "metadata": {
    "collapsed": false
   },
   "outputs": [
    {
     "name": "stdout",
     "output_type": "stream",
     "text": [
      "[[1 2 3]]\n"
     ]
    }
   ],
   "source": [
    "print(b)"
   ]
  },
  {
   "cell_type": "code",
   "execution_count": 6,
   "metadata": {
    "collapsed": false,
    "scrolled": true
   },
   "outputs": [
    {
     "name": "stdout",
     "output_type": "stream",
     "text": [
      "[[1]\n",
      " [2]\n",
      " [3]]\n"
     ]
    }
   ],
   "source": [
    "print(c)"
   ]
  },
  {
   "cell_type": "markdown",
   "metadata": {},
   "source": [
    "Similarly a 2x3 matrix can be created as follows,"
   ]
  },
  {
   "cell_type": "code",
   "execution_count": 7,
   "metadata": {
    "collapsed": false
   },
   "outputs": [
    {
     "name": "stdout",
     "output_type": "stream",
     "text": [
      "[[4 5 6]\n",
      " [7 8 9]]\n"
     ]
    }
   ],
   "source": [
    "X = np.array([[4,5,6],[7,8,9]])\n",
    "print(X)"
   ]
  },
  {
   "cell_type": "markdown",
   "metadata": {},
   "source": [
    "Use the *__.shape__* function if you want to see the dimensions of a vector or matrix. The *__.shape__* function equivalent to the *__size()__* function in MATLAB."
   ]
  },
  {
   "cell_type": "code",
   "execution_count": 8,
   "metadata": {
    "collapsed": false
   },
   "outputs": [
    {
     "name": "stdout",
     "output_type": "stream",
     "text": [
      "(2, 3)\n"
     ]
    }
   ],
   "source": [
    "print(X.shape)"
   ]
  },
  {
   "cell_type": "markdown",
   "metadata": {},
   "source": [
    "Now that we've created a few vectors and matrices we'll need to know how to access them.\n",
    "Two differences to note when comparing to MATLAB:  \n",
    "1) Python uses square brackets instead of parentheses  \n",
    "2) Python uses zero-based numbering (the first element is 0, not 1)"
   ]
  },
  {
   "cell_type": "markdown",
   "metadata": {},
   "source": [
    "`X=[[4, 5, 6],\n",
    "   [7, 8, 9]]`"
   ]
  },
  {
   "cell_type": "code",
   "execution_count": 9,
   "metadata": {
    "collapsed": false
   },
   "outputs": [
    {
     "name": "stdout",
     "output_type": "stream",
     "text": [
      "4\n"
     ]
    }
   ],
   "source": [
    "print(X[0,0])"
   ]
  },
  {
   "cell_type": "code",
   "execution_count": 10,
   "metadata": {
    "collapsed": false
   },
   "outputs": [
    {
     "name": "stdout",
     "output_type": "stream",
     "text": [
      "8\n"
     ]
    }
   ],
   "source": [
    "print(X[1,1])"
   ]
  },
  {
   "cell_type": "code",
   "execution_count": 11,
   "metadata": {
    "collapsed": false
   },
   "outputs": [
    {
     "name": "stdout",
     "output_type": "stream",
     "text": [
      "[4 5 6]\n"
     ]
    }
   ],
   "source": [
    "print(X[0,:] )"
   ]
  },
  {
   "cell_type": "code",
   "execution_count": 12,
   "metadata": {
    "collapsed": false
   },
   "outputs": [
    {
     "name": "stdout",
     "output_type": "stream",
     "text": [
      "[5 8]\n"
     ]
    }
   ],
   "source": [
    "print(X[:,1])"
   ]
  },
  {
   "cell_type": "markdown",
   "metadata": {},
   "source": [
    "To make an array of length 10 counting up from 0, use the *__np.arange()__* function. This is equivalent to 0:9 in MATLAB."
   ]
  },
  {
   "cell_type": "code",
   "execution_count": 13,
   "metadata": {
    "collapsed": false,
    "scrolled": true
   },
   "outputs": [
    {
     "name": "stdout",
     "output_type": "stream",
     "text": [
      "[0 1 2 3 4 5 6 7 8 9]\n"
     ]
    }
   ],
   "source": [
    "print(np.arange(10))\n"
   ]
  },
  {
   "cell_type": "markdown",
   "metadata": {},
   "source": [
    "If you want to create a vector or matrix of all ones just like the *__ones()__* function in MATLAB, use the *__np.ones()__* function,"
   ]
  },
  {
   "cell_type": "code",
   "execution_count": 14,
   "metadata": {
    "collapsed": false,
    "scrolled": true
   },
   "outputs": [
    {
     "name": "stdout",
     "output_type": "stream",
     "text": [
      "[[ 1.  1.  1. ...,  1.  1.  1.]\n",
      " [ 1.  1.  1. ...,  1.  1.  1.]\n",
      " [ 1.  1.  1. ...,  1.  1.  1.]\n",
      " ..., \n",
      " [ 1.  1.  1. ...,  1.  1.  1.]\n",
      " [ 1.  1.  1. ...,  1.  1.  1.]\n",
      " [ 1.  1.  1. ...,  1.  1.  1.]]\n"
     ]
    }
   ],
   "source": [
    "print(np.ones( (50,50) ))\n"
   ]
  },
  {
   "cell_type": "markdown",
   "metadata": {},
   "source": [
    "Let's now look at some basic __Matrix Manipulation__.\n",
    "\n",
    "One of the first things we might want to do is to take a transpose of a matrix. The *__np.transpose()__* function computes the transpose of *__X__*, equivalent to *__X'__* in MATLAB."
   ]
  },
  {
   "cell_type": "code",
   "execution_count": 15,
   "metadata": {
    "collapsed": false
   },
   "outputs": [
    {
     "name": "stdout",
     "output_type": "stream",
     "text": [
      "[[4 7]\n",
      " [5 8]\n",
      " [6 9]]\n"
     ]
    }
   ],
   "source": [
    "print( np.transpose(X))"
   ]
  },
  {
   "cell_type": "markdown",
   "metadata": {},
   "source": [
    "__Element-wise Multiplication__ can be done simply with a *__*__*.\n",
    "\n",
    "Equivalently in MATLAB we would run *__X.*X__*."
   ]
  },
  {
   "cell_type": "code",
   "execution_count": 16,
   "metadata": {
    "collapsed": false
   },
   "outputs": [
    {
     "name": "stdout",
     "output_type": "stream",
     "text": [
      "[[16 25 36]\n",
      " [49 64 81]]\n"
     ]
    }
   ],
   "source": [
    "print(X*X)"
   ]
  },
  {
   "cell_type": "code",
   "execution_count": 17,
   "metadata": {
    "collapsed": false
   },
   "outputs": [
    {
     "name": "stdout",
     "output_type": "stream",
     "text": [
      "[[ 5  6  7]\n",
      " [ 8  9 10]]\n"
     ]
    }
   ],
   "source": [
    "print(X+1)"
   ]
  },
  {
   "cell_type": "code",
   "execution_count": 21,
   "metadata": {
    "collapsed": false
   },
   "outputs": [
    {
     "name": "stdout",
     "output_type": "stream",
     "text": [
      "[[ 5  7  9]\n",
      " [ 8 10 12]]\n"
     ]
    }
   ],
   "source": [
    "print(X+b)"
   ]
  },
  {
   "cell_type": "markdown",
   "metadata": {},
   "source": [
    "__Matrix Multiplication__ can be done using the *__np.dot()__* function much like *__(X')\\*X__* in MATLAB,"
   ]
  },
  {
   "cell_type": "code",
   "execution_count": 22,
   "metadata": {
    "collapsed": false
   },
   "outputs": [
    {
     "name": "stdout",
     "output_type": "stream",
     "text": [
      "[[ 65  76  87]\n",
      " [ 76  89 102]\n",
      " [ 87 102 117]]\n"
     ]
    }
   ],
   "source": [
    "print(np.dot(np.transpose(X),X))"
   ]
  },
  {
   "cell_type": "markdown",
   "metadata": {},
   "source": [
    "More complicated functions can be found in the *__numpy__* documentation online.\n",
    "One example is *__np.linalg.eig()__*"
   ]
  },
  {
   "cell_type": "markdown",
   "metadata": {
    "collapsed": true
   },
   "source": [
    "### For Loops, If Statements, and Simple Functions"
   ]
  },
  {
   "cell_type": "markdown",
   "metadata": {},
   "source": [
    "Recall that in MATLAB, a for loop would look like:\n",
    "\n",
    "count = 0;\n",
    "for i=0:9\n",
    "    count = count+1;\n",
    "end\n",
    "count"
   ]
  },
  {
   "cell_type": "code",
   "execution_count": 23,
   "metadata": {
    "collapsed": false
   },
   "outputs": [
    {
     "name": "stdout",
     "output_type": "stream",
     "text": [
      "10\n"
     ]
    }
   ],
   "source": [
    "count = 0\n",
    "for i in np.arange(10):\n",
    "    count = count+1\n",
    "print(count)"
   ]
  },
  {
   "cell_type": "markdown",
   "metadata": {},
   "source": [
    "MATLAB if statement:\n",
    "\n",
    "`\n",
    "if count==5\n",
    "    \"the count is 5\"\n",
    "elseif count <5\n",
    "    \"the count is less than 5\"\n",
    "else\n",
    "    \"the count is greater than 5\"\n",
    "end\n",
    "`"
   ]
  },
  {
   "cell_type": "code",
   "execution_count": 24,
   "metadata": {
    "collapsed": false
   },
   "outputs": [
    {
     "name": "stdout",
     "output_type": "stream",
     "text": [
      "the count is greater than 5\n"
     ]
    }
   ],
   "source": [
    "if count==5:\n",
    "    print(\"the count is 5\")\n",
    "elif count <5:\n",
    "    print(\"the count is less than 5\")\n",
    "else:\n",
    "    print(\"the count is greater than 5\")\n",
    "    \n"
   ]
  },
  {
   "cell_type": "markdown",
   "metadata": {},
   "source": [
    "MATLAB function:\n",
    "\n",
    "`function z = myfunc(x,y)\n",
    "    z=x+y;\n",
    "end\n",
    "myfunc(4,6)`"
   ]
  },
  {
   "cell_type": "code",
   "execution_count": 25,
   "metadata": {
    "collapsed": false
   },
   "outputs": [
    {
     "name": "stdout",
     "output_type": "stream",
     "text": [
      "10\n"
     ]
    }
   ],
   "source": [
    "def myfunc(x,y): \n",
    "    return x+y\n",
    "\n",
    "print(myfunc(4,6))"
   ]
  },
  {
   "cell_type": "markdown",
   "metadata": {},
   "source": [
    "### Loading The Digits Dataset"
   ]
  },
  {
   "cell_type": "markdown",
   "metadata": {},
   "source": [
    "First make sure you have these four files in the same directory as your python script."
   ]
  },
  {
   "cell_type": "code",
   "execution_count": 26,
   "metadata": {
    "collapsed": true
   },
   "outputs": [],
   "source": [
    "trainimages=np.load(\"trainimages.npy\")\n",
    "testimages=np.load(\"testimages.npy\")\n",
    "trainlabels=np.load(\"trainlabels.npy\")\n",
    "testlabels=np.load(\"testlabels.npy\")"
   ]
  },
  {
   "cell_type": "markdown",
   "metadata": {},
   "source": [
    "*__trainimages__* is a (60,000x784) matrix containing all of the training images.  \n",
    "*__trainlabels__* is a (60,000x1) column vector containing all of the corresponding labels"
   ]
  },
  {
   "cell_type": "markdown",
   "metadata": {},
   "source": [
    "### Plotting"
   ]
  },
  {
   "cell_type": "markdown",
   "metadata": {},
   "source": [
    "We'll first need to import the *__matplotlib__* package in order to use the plotting functions."
   ]
  },
  {
   "cell_type": "code",
   "execution_count": 27,
   "metadata": {
    "collapsed": false
   },
   "outputs": [
    {
     "name": "stderr",
     "output_type": "stream",
     "text": [
      "/Users/ryanshiroma/anaconda/lib/python2.7/site-packages/matplotlib/font_manager.py:273: UserWarning: Matplotlib is building the font cache using fc-list. This may take a moment.\n",
      "  warnings.warn('Matplotlib is building the font cache using fc-list. This may take a moment.')\n"
     ]
    }
   ],
   "source": [
    "%matplotlib inline\n",
    "import matplotlib.pyplot as plt"
   ]
  },
  {
   "cell_type": "markdown",
   "metadata": {},
   "source": [
    "To plot a digit like we've done in MATLAB with *__imagesc()__*, use the *__plt.imshow()__* function "
   ]
  },
  {
   "cell_type": "code",
   "execution_count": 28,
   "metadata": {
    "collapsed": false,
    "scrolled": true
   },
   "outputs": [
    {
     "data": {
      "text/plain": [
       "<matplotlib.image.AxesImage at 0x119533790>"
      ]
     },
     "execution_count": 28,
     "metadata": {},
     "output_type": "execute_result"
    },
    {
     "data": {
      "image/png": "[encoded data removed]",
      "text/plain": [
       "<matplotlib.figure.Figure at 0x11708f290>"
      ]
     },
     "metadata": {},
     "output_type": "display_data"
    }
   ],
   "source": [
    "plt.figure() \n",
    "plt.imshow(trainimages[0,:].reshape(28,28),cmap=plt.gray())"
   ]
  },
  {
   "cell_type": "code",
   "execution_count": 29,
   "metadata": {
    "collapsed": false
   },
   "outputs": [
    {
     "name": "stdout",
     "output_type": "stream",
     "text": [
      "5\n"
     ]
    }
   ],
   "source": [
    "print(trainlabels[0])"
   ]
  },
  {
   "cell_type": "markdown",
   "metadata": {},
   "source": [
    "Now let's try a simple MATLAB style plot. Syntax is essentially the same as it is in MATLAB."
   ]
  },
  {
   "cell_type": "code",
   "execution_count": 30,
   "metadata": {
    "collapsed": false
   },
   "outputs": [
    {
     "data": {
      "image/png": "[encoded data removed]",
      "text/plain": [
       "<matplotlib.figure.Figure at 0x1194df410>"
      ]
     },
     "metadata": {},
     "output_type": "display_data"
    }
   ],
   "source": [
    "plt.figure()\n",
    "x=range(1,21)\n",
    "y=np.random.poisson(5,20)\n",
    "plt.plot(x,y)\n",
    "plt.xlabel(\"Week #\")\n",
    "plt.ylabel(\"# Milk Teas I drank\")\n",
    "plt.title(\"Too Many Milk Teas\")\n",
    "plt.grid()"
   ]
  },
  {
   "cell_type": "markdown",
   "metadata": {
    "collapsed": true
   },
   "source": [
    "### Running K-Nearest Neighbors on the dataset"
   ]
  },
  {
   "cell_type": "markdown",
   "metadata": {},
   "source": [
    "Let's now move on to running K-Nearest Neighbors on the data set.  \n",
    "Since the KNN function is not part of the *__numpy__* library, we'll need to import another library.  \n",
    "The most popular machine learning library, *__sklearn__*, contains many of the functions needed for the first two homework assigments (ex. knn, kmeans, pca, cross validation, etc.)  \n",
    "The second library we'll import is the *__timeit__* library. This library will give us functionality similar to the *__tic()__* and *__toc()__* functions in MATLAB."
   ]
  },
  {
   "cell_type": "code",
   "execution_count": 31,
   "metadata": {
    "collapsed": true
   },
   "outputs": [],
   "source": [
    "from sklearn import neighbors\n",
    "from sklearn import metrics\n",
    "\n",
    "import timeit"
   ]
  },
  {
   "cell_type": "markdown",
   "metadata": {},
   "source": [
    "Let's now run K-nearest neighbors on the digits dataset. *(The first 5000 digits in the training set)*"
   ]
  },
  {
   "cell_type": "code",
   "execution_count": 34,
   "metadata": {
    "collapsed": false
   },
   "outputs": [
    {
     "name": "stdout",
     "output_type": "stream",
     "text": [
      "Error Rate: 0.082\n",
      "2.70471596718 seconds\n"
     ]
    }
   ],
   "source": [
    "begin=timeit.default_timer()\n",
    "\n",
    "mdl= neighbors.KNeighborsClassifier(n_neighbors=3,weights=\"uniform\",n_jobs=2)\n",
    "mdl.fit(trainimages[:5000], trainlabels[:5000])\n",
    "pred=mdl.predict(testimages[:500])\n",
    "\n",
    "score=1-metrics.accuracy_score(testlabels[:500],pred)\n",
    "\n",
    "print(\"Error Rate: \" + str(score))\n",
    "print(str(timeit.default_timer()-begin)+ \" seconds\")"
   ]
  },
  {
   "cell_type": "markdown",
   "metadata": {},
   "source": [
    "### Running PCA on the dataset"
   ]
  },
  {
   "cell_type": "markdown",
   "metadata": {},
   "source": [
    "To speed up the K-NN computation time one solution is to reduce the dimensionality of the dataset. We can implement __PCA__ using the *__numpy__* function *__np.linalg.svd()__*."
   ]
  },
  {
   "cell_type": "code",
   "execution_count": 35,
   "metadata": {
    "collapsed": false
   },
   "outputs": [],
   "source": [
    "pixelmeans=np.mean(trainimages,axis=0)\n",
    "X_tilde=trainimages-pixelmeans\n",
    "U,S,V=np.linalg.svd(X_tilde,full_matrices=0)\n",
    "cumulative_var = np.cumsum(S*S)\n",
    "cumulative_var = cumulative_var/cumulative_var[-1]\n",
    "s = np.where(cumulative_var>0.95)[0][0]\n",
    "Y = np.dot(X_tilde,V[:,:s])\n",
    "Xtest_tilde=testimages-pixelmeans\n",
    "Ytest = np.dot(Xtest_tilde,V[:,:s])"
   ]
  },
  {
   "cell_type": "markdown",
   "metadata": {},
   "source": [
    "Alternatively, we can accomplish the same task using the *__PCA()__* function in *__sklearn__*"
   ]
  },
  {
   "cell_type": "code",
   "execution_count": 36,
   "metadata": {
    "collapsed": true
   },
   "outputs": [],
   "source": [
    "from sklearn import decomposition\n",
    "pca =  decomposition.PCA()\n",
    "pca.fit(trainimages)\n",
    "Y=pca.transform(trainimages)\n",
    "Ytest=pca.transform(testimages)\n",
    "S=pca.explained_variance_ratio_\n",
    "cumulative_var = np.cumsum(S)\n",
    "cumulative_var = cumulative_var/cumulative_var[-1]\n",
    "s = np.where(cumulative_var>0.95)[0][0]\n",
    "Y=Y[:,:s]\n",
    "Ytest=Ytest[:,:s]"
   ]
  },
  {
   "cell_type": "code",
   "execution_count": 37,
   "metadata": {
    "collapsed": false
   },
   "outputs": [
    {
     "name": "stdout",
     "output_type": "stream",
     "text": [
      "[ 0.09704635  0.16800603  0.22969763  0.28359228  0.3322801   0.37540296\n",
      "  0.40812218  0.43696102  0.46458119  0.48815113  0.50924295  0.52947283\n",
      "  0.54663092  0.56355202  0.57933837  0.59416783  0.60741347  0.62018245\n",
      "  0.63205504  0.64358193  0.65424353  0.66431063  0.6738463   0.68297172\n",
      "  0.69180578  0.70019901  0.70832479  0.71618843  0.72363573  0.73054433\n",
      "  0.73712528  0.74360675  0.74963289  0.75549871  0.76119888  0.76663518\n",
      "  0.77169299  0.77657157  0.78138584  0.78610849  0.79067594  0.79512429\n",
      "  0.79930931  0.80329144  0.80714118  0.81089222  0.81451231  0.81802821\n",
      "  0.82142878  0.82464749  0.82783765  0.8309657   0.83392549  0.83681506\n",
      "  0.83965635  0.84237069  0.84506589  0.84765059  0.85018831  0.8526361\n",
      "  0.85504115  0.85743374  0.85973781  0.86195314  0.86409032  0.8661626\n",
      "  0.86819303  0.87016088  0.87208939  0.87397569  0.87584543  0.87765628\n",
      "  0.8794319   0.88118088  0.88283849  0.88447744  0.88609207  0.88764322\n",
      "  0.88911933  0.89055109  0.89197201  0.89338356  0.89478528  0.89614266\n",
      "  0.89748114  0.89880508  0.90010667  0.9013654   0.90259367  0.90380955\n",
      "  0.90497988  0.90612864  0.90726107  0.9083699   0.90945989  0.91052914\n",
      "  0.91157109  0.91261113  0.91362369  0.91462898  0.915613    0.91656268\n",
      "  0.91750401  0.9184202   0.91932803  0.92022491  0.9210903   0.92194545\n",
      "  0.92279106  0.92361355  0.92440516  0.9251911   0.92597568  0.92674452\n",
      "  0.92750853  0.92826164  0.92899841  0.92972553  0.93044519  0.93115199\n",
      "  0.93184739  0.93253952  0.93322283  0.9338969   0.93456376  0.93520904\n",
      "  0.9358446   0.93647623  0.93709916  0.93770444  0.938308    0.9389025\n",
      "  0.9394908   0.9400773   0.94065863  0.94123548  0.94180083  0.94235557\n",
      "  0.94289076  0.94341671  0.94394183  0.94445211  0.94495505  0.94545615\n",
      "  0.94595486  0.94644594  0.94693148  0.94741434  0.94788837  0.94835675\n",
      "  0.94882333  0.94928664  0.94974595  0.95019633  0.95064515  0.95108783\n",
      "  0.9515245   0.95195192  0.9523769   0.9527989   0.95321441  0.95362407\n",
      "  0.95402491  0.95442277  0.95481688  0.95520735  0.95559317  0.95597297\n",
      "  0.95635188  0.95672584  0.95709527  0.9574604   0.95782423  0.95818412\n",
      "  0.95853877  0.95889169  0.95923901  0.95958495  0.95992643  0.96026409\n",
      "  0.96060115  0.96093136  0.96125972  0.96158564  0.96190858  0.96222985\n",
      "  0.96254712  0.96286333  0.96317428  0.96348381  0.96378976  0.96409303\n",
      "  0.96439546  0.964697    0.96499372  0.96528947  0.96558297  0.96587563\n",
      "  0.9661634   0.96644771  0.9667297   0.96700877  0.9672845   0.96755695\n",
      "  0.96782637  0.96809405  0.96835917  0.96862352  0.96888542  0.96914488\n",
      "  0.96940345  0.96966034  0.96991509  0.97016788  0.97042018  0.97066975\n",
      "  0.97091824  0.97116429  0.97140825  0.97165012  0.97189111  0.97213155\n",
      "  0.97236979  0.97260666  0.97283924  0.97307056  0.9733007   0.9735288\n",
      "  0.97375637  0.97397918  0.97420102  0.97442144  0.9746393   0.97485596\n",
      "  0.97507113  0.97528535  0.9754982   0.97570854  0.97591829  0.97612524\n",
      "  0.97632998  0.97653425  0.97673553  0.97693652  0.97713554  0.97733319\n",
      "  0.97752899  0.9777227   0.97791559  0.97810733  0.9782989   0.97848797\n",
      "  0.97867596  0.97886235  0.97904819  0.97923279  0.97941649  0.97959965\n",
      "  0.97978151  0.9799614   0.98013896  0.98031563  0.98049158  0.98066545\n",
      "  0.98083889  0.98101151  0.98118287  0.98135293  0.9815222   0.98169023\n",
      "  0.98185712  0.9820236   0.98218781  0.9823513   0.98251396  0.98267585\n",
      "  0.98283672  0.98299658  0.98315543  0.98331279  0.98346955  0.98362446\n",
      "  0.98377824  0.9839313   0.98408335  0.98423338  0.98438305  0.98453128\n",
      "  0.98467898  0.98482513  0.98496979  0.98511302  0.98525572  0.98539782\n",
      "  0.98553956  0.98568004  0.98581827  0.98595625  0.9860931   0.98622906\n",
      "  0.98636484  0.98649937  0.986633    0.98676533  0.98689604  0.98702621\n",
      "  0.98715538  0.98728347  0.98741096  0.98753816  0.98766452  0.98779041\n",
      "  0.98791516  0.98803872  0.98816133  0.98828292  0.98840392  0.9885239\n",
      "  0.98864335  0.98876232  0.98888022  0.98899728  0.98911375  0.98922986\n",
      "  0.98934436  0.98945856  0.98957098  0.98968226  0.98979282  0.98990327\n",
      "  0.9900133   0.99012226  0.99023056  0.99033815  0.99044514  0.99055135\n",
      "  0.99065727  0.99076229  0.99086571  0.99096793  0.99106997  0.99117082\n",
      "  0.99127108  0.99137068  0.99147004  0.99156815  0.99166572  0.99176258\n",
      "  0.99185812  0.99195266  0.99204648  0.99214017  0.99223268  0.99232429\n",
      "  0.99241567  0.99250633  0.99259639  0.99268574  0.9927749   0.99286318\n",
      "  0.9929505   0.99303681  0.9931224   0.99320757  0.99329215  0.99337548\n",
      "  0.99345845  0.99354094  0.99362284  0.9937039   0.99378479  0.99386442\n",
      "  0.99394387  0.99402249  0.99410057  0.994178    0.99425459  0.99433041\n",
      "  0.99440503  0.99447888  0.99455243  0.99462527  0.99469799  0.99477005\n",
      "  0.99484146  0.99491227  0.99498194  0.99505121  0.99511951  0.99518746\n",
      "  0.99525452  0.99532074  0.995386    0.9954502   0.99551392  0.99557739\n",
      "  0.99563944  0.99570072  0.99576104  0.99582094  0.99588031  0.99593902\n",
      "  0.99599761  0.99605501  0.99611175  0.99616814  0.99622375  0.99627864\n",
      "  0.99633336  0.99638784  0.99644119  0.99649394  0.99654651  0.99659872\n",
      "  0.99665058  0.9967016   0.99675196  0.99680173  0.99685079  0.99689949\n",
      "  0.99694741  0.99699461  0.99704129  0.99708772  0.99713331  0.9971782\n",
      "  0.99722189  0.9972648   0.99730742  0.9973498   0.997392    0.99743378\n",
      "  0.99747515  0.99751598  0.99755627  0.99759483  0.9976331   0.99767125\n",
      "  0.99770916  0.99774647  0.99778354  0.99782014  0.9978559   0.99789125\n",
      "  0.99792647  0.99796134  0.99799591  0.9980303   0.99806368  0.9980967\n",
      "  0.99812889  0.99816084  0.99819249  0.99822348  0.99825388  0.99828404\n",
      "  0.99831396  0.99834317  0.99837202  0.99840051  0.99842858  0.99845648\n",
      "  0.99848402  0.99851096  0.99853671  0.99856198  0.99858713  0.99861199\n",
      "  0.99863666  0.99866104  0.99868536  0.99870962  0.99873334  0.99875671\n",
      "  0.99877995  0.99880248  0.99882483  0.99884695  0.99886841  0.99888968\n",
      "  0.99891073  0.99893159  0.99895197  0.99897206  0.99899191  0.99901152\n",
      "  0.99903101  0.99904996  0.99906844  0.99908662  0.99910474  0.99912268\n",
      "  0.99914026  0.99915767  0.999174    0.99919015  0.99920624  0.99922216\n",
      "  0.99923772  0.99925292  0.99926805  0.99928302  0.9992978   0.9993124\n",
      "  0.99932677  0.99934095  0.9993549   0.99936867  0.99938232  0.99939567\n",
      "  0.99940878  0.99942136  0.99943376  0.99944592  0.9994579   0.99946982\n",
      "  0.99948162  0.99949336  0.99950475  0.99951607  0.99952734  0.99953836\n",
      "  0.99954927  0.99955982  0.99957037  0.99958062  0.99959064  0.99960023\n",
      "  0.99960959  0.99961883  0.99962807  0.99963695  0.99964577  0.99965435\n",
      "  0.99966252  0.99967051  0.99967837  0.99968612  0.99969375  0.99970132\n",
      "  0.99970883  0.99971622  0.99972349  0.99973065  0.99973762  0.99974447\n",
      "  0.99975121  0.99975789  0.99976444  0.99977094  0.99977708  0.99978298\n",
      "  0.9997887   0.99979436  0.99979991  0.99980527  0.99981052  0.9998157\n",
      "  0.99982077  0.99982578  0.99983072  0.99983561  0.99984044  0.99984515\n",
      "  0.9998498   0.99985433  0.9998585   0.99986267  0.99986666  0.99987066\n",
      "  0.99987459  0.99987841  0.99988216  0.9998855   0.99988872  0.99989194\n",
      "  0.9998951   0.9998982   0.99990129  0.99990433  0.99990737  0.99991035\n",
      "  0.99991333  0.99991626  0.99991906  0.99992168  0.99992424  0.99992663\n",
      "  0.99992895  0.99993122  0.99993348  0.99993569  0.99993783  0.99993998\n",
      "  0.99994206  0.99994409  0.999946    0.99994785  0.99994969  0.99995154\n",
      "  0.99995333  0.99995506  0.99995667  0.99995828  0.99995977  0.99996126\n",
      "  0.99996269  0.99996406  0.99996537  0.99996668  0.99996799  0.99996924\n",
      "  0.99997038  0.99997145  0.99997252  0.99997354  0.99997455  0.9999755\n",
      "  0.99997646  0.99997741  0.9999783   0.9999792   0.99998009  0.99998099\n",
      "  0.99998182  0.9999826   0.99998331  0.99998403  0.99998468  0.99998534\n",
      "  0.99998599  0.99998659  0.99998719  0.99998778  0.99998838  0.99998897\n",
      "  0.99998951  0.99999005  0.99999058  0.99999106  0.99999154  0.99999201\n",
      "  0.99999243  0.99999285  0.99999326  0.99999362  0.99999398  0.99999434\n",
      "  0.99999464  0.99999493  0.99999523  0.99999553  0.99999577  0.99999601\n",
      "  0.99999624  0.99999648  0.99999672  0.99999696  0.9999972   0.99999738\n",
      "  0.99999756  0.99999774  0.99999791  0.99999809  0.99999827  0.99999845\n",
      "  0.99999857  0.99999869  0.99999881  0.99999893  0.99999905  0.99999911\n",
      "  0.99999917  0.99999923  0.99999928  0.99999934  0.9999994   0.99999946\n",
      "  0.99999952  0.99999958  0.99999964  0.9999997   0.99999976  0.99999982\n",
      "  0.99999988  0.99999994  1.          1.          1.          1.          1.\n",
      "  1.          1.          1.          1.          1.          1.          1.\n",
      "  1.          1.          1.          1.          1.          1.          1.\n",
      "  1.          1.          1.          1.          1.          1.          1.\n",
      "  1.          1.          1.          1.          1.          1.          1.\n",
      "  1.          1.          1.          1.          1.          1.          1.\n",
      "  1.          1.          1.          1.          1.          1.          1.\n",
      "  1.          1.          1.          1.          1.          1.          1.\n",
      "  1.          1.          1.          1.          1.          1.          1.\n",
      "  1.          1.          1.          1.          1.          1.          1.\n",
      "  1.          1.          1.          1.          1.          1.          1.\n",
      "  1.          1.          1.          1.          1.          1.          1.\n",
      "  1.          1.          1.          1.          1.          1.          1.\n",
      "  1.          1.          1.          1.          1.          1.          1.\n",
      "  1.          1.        ]\n"
     ]
    }
   ],
   "source": [
    "print(cumulative_var)"
   ]
  },
  {
   "cell_type": "markdown",
   "metadata": {},
   "source": [
    "Let's now rerun KNN on this reduced dataset."
   ]
  },
  {
   "cell_type": "code",
   "execution_count": 38,
   "metadata": {
    "collapsed": false
   },
   "outputs": [
    {
     "name": "stdout",
     "output_type": "stream",
     "text": [
      "0.078\n",
      "0.586151838303 seconds\n"
     ]
    }
   ],
   "source": [
    "begin=timeit.default_timer()\n",
    "mdl2= neighbors.KNeighborsClassifier(n_neighbors=3,weights=\"uniform\",n_jobs=2)\n",
    "mdl2.fit(Y[:5000],trainlabels[:5000])\n",
    "pred=mdl2.predict(Ytest[:500])\n",
    "score=1-metrics.accuracy_score(testlabels[:500],pred)\n",
    "print(score)\n",
    "print(str(timeit.default_timer()-begin)+ \" seconds\")"
   ]
  },
  {
   "cell_type": "markdown",
   "metadata": {},
   "source": [
    "## Extra Stuff"
   ]
  },
  {
   "cell_type": "markdown",
   "metadata": {},
   "source": [
    "Another useful *__sklearn__* function we can use is *__KFold()__* for cross-validation."
   ]
  },
  {
   "cell_type": "code",
   "execution_count": 39,
   "metadata": {
    "collapsed": true
   },
   "outputs": [],
   "source": [
    "from sklearn import cross_validation"
   ]
  },
  {
   "cell_type": "code",
   "execution_count": 42,
   "metadata": {
    "collapsed": false
   },
   "outputs": [
    {
     "name": "stdout",
     "output_type": "stream",
     "text": [
      "k=2 Accuracy score:0.892005778233\n",
      "k=3 Accuracy score:0.899507291723\n",
      "k=4 Accuracy score:0.902510294726\n",
      "k=5 Accuracy score:0.897515779252\n",
      "k=6 Accuracy score:0.897514280748\n",
      "k=7 Accuracy score:0.89501327675\n",
      "k=8 Accuracy score:0.89201476926\n",
      "5.95061206818 seconds\n"
     ]
    },
    {
     "data": {
      "image/png": "[encoded data removed]",
      "text/plain": [
       "<matplotlib.figure.Figure at 0x119852590>"
      ]
     },
     "metadata": {},
     "output_type": "display_data"
    }
   ],
   "source": [
    "n=2000\n",
    "k=8\n",
    "kf = cross_validation.KFold(n=2000, n_folds=6, shuffle=True)\n",
    "error=np.zeros((k,1))\n",
    "score=0\n",
    "\n",
    "start = timeit.default_timer()\n",
    "\n",
    "for a in range(2,k+1):\n",
    "    for train_index, test_index  in kf:\n",
    "        #WEIGHTING OPTIONS:linear_weights,'uniform', 'distance'\n",
    "        classifier= neighbors.KNeighborsClassifier(a,weights=\"uniform\",n_jobs=2)\n",
    "        classifier.fit(Y[train_index], trainlabels[train_index])\n",
    "        pred=classifier.predict(Y[test_index])\n",
    "        score+=metrics.accuracy_score(trainlabels[test_index],pred)\n",
    "    score/=6\n",
    "    print(\"k=\"+str(a) + \" Accuracy score:\" +str(score))\n",
    "    error[a-1]=score\n",
    "    score=0\n",
    "\n",
    "stop = timeit.default_timer()\n",
    "print str(stop-start) +\" seconds\"\n",
    "\n",
    "plt.plot(range(2,k+1), error[1:])\n",
    "plt.title(\"Classification Rate\")\n",
    "plt.xlabel(\"k-neighbors\")\n",
    "plt.ylabel(\"percent correct\")\n",
    "plt.show()"
   ]
  },
  {
   "cell_type": "markdown",
   "metadata": {},
   "source": [
    "More examples are available in the script file posted in the shared drive.  \n",
    "Try and create your own implementations of some of these algorithms for the homeworks!  \n",
    "Ryan :)"
   ]
  }
 ],
 "metadata": {
  "kernelspec": {
   "display_name": "Python 2",
   "language": "python",
   "name": "python2"
  },
  "language_info": {
   "codemirror_mode": {
    "name": "ipython",
    "version": 2
   },
   "file_extension": ".py",
   "mimetype": "text/x-python",
   "name": "python",
   "nbconvert_exporter": "python",
   "pygments_lexer": "ipython2",
   "version": "2.7.11"
  }
 },
 "nbformat": 4,
 "nbformat_minor": 0
}

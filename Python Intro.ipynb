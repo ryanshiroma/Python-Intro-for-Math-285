{
 "cells": [
  {
   "cell_type": "markdown",
   "metadata": {},
   "source": [
    "# Introduction to Python for Machine Learning"
   ]
  },
  {
   "cell_type": "markdown",
   "metadata": {},
   "source": [
    "First Step: Install PyCharm and Anaconda\n",
    "\n",
    "\n"
   ]
  },
  {
   "cell_type": "markdown",
   "metadata": {},
   "source": [
    "## Creating your Script File \n",
    "### Basic Python Syntax"
   ]
  },
  {
   "cell_type": "markdown",
   "metadata": {},
   "source": [
    "Let's now look at the basic syntax of python. Like most programming languages, we can assign a value to our variable __a__ as follows. *NOTE:* semicolons aren't used like MATLAB to suppress output!"
   ]
  },
  {
   "cell_type": "code",
   "execution_count": null,
   "metadata": {
    "collapsed": false
   },
   "outputs": [],
   "source": [
    "a=1"
   ]
  },
  {
   "cell_type": "markdown",
   "metadata": {},
   "source": [
    "If you want to see the output of a line of code you will need to use the __print()__ function"
   ]
  },
  {
   "cell_type": "code",
   "execution_count": null,
   "metadata": {
    "collapsed": false
   },
   "outputs": [],
   "source": [
    "print(a)"
   ]
  },
  {
   "cell_type": "markdown",
   "metadata": {},
   "source": [
    "### Importing Numpy\n",
    "The vast majority of the functions we need for this class will use the Numpy library"
   ]
  },
  {
   "cell_type": "code",
   "execution_count": 2,
   "metadata": {
    "collapsed": false
   },
   "outputs": [],
   "source": [
    "import numpy as np"
   ]
  },
  {
   "cell_type": "markdown",
   "metadata": {},
   "source": [
    "To create matrices and vectors we need to use __np.array()__. \n",
    "We'll start with a 1x3 row vector and a 3x1 column vector"
   ]
  },
  {
   "cell_type": "code",
   "execution_count": 3,
   "metadata": {
    "collapsed": false
   },
   "outputs": [],
   "source": [
    "b = np.array( [[1,2,3]] ) \n",
    "c = np.array( [[1],[2],[3]] )"
   ]
  },
  {
   "cell_type": "code",
   "execution_count": 4,
   "metadata": {
    "collapsed": false
   },
   "outputs": [
    {
     "name": "stdout",
     "output_type": "stream",
     "text": [
      "[[1 2 3]]\n"
     ]
    }
   ],
   "source": [
    "print(b)"
   ]
  },
  {
   "cell_type": "code",
   "execution_count": 5,
   "metadata": {
    "collapsed": false,
    "scrolled": true
   },
   "outputs": [
    {
     "name": "stdout",
     "output_type": "stream",
     "text": [
      "[[1]\n",
      " [2]\n",
      " [3]]\n"
     ]
    }
   ],
   "source": [
    "print(c)"
   ]
  },
  {
   "cell_type": "markdown",
   "metadata": {},
   "source": [
    "Similarly a 2x3 matrix can be created like this,"
   ]
  },
  {
   "cell_type": "code",
   "execution_count": 6,
   "metadata": {
    "collapsed": false
   },
   "outputs": [
    {
     "name": "stdout",
     "output_type": "stream",
     "text": [
      "[[4 5 6]\n",
      " [7 8 9]]\n"
     ]
    }
   ],
   "source": [
    "X = np.array([[4,5,6],[7,8,9]])\n",
    "print(X)"
   ]
  },
  {
   "cell_type": "markdown",
   "metadata": {},
   "source": [
    "If you want to see the dimensions of a vector or matrix, use the __shape__ function. This is equivalent to the __size()__ function in MATLAB."
   ]
  },
  {
   "cell_type": "code",
   "execution_count": 8,
   "metadata": {
    "collapsed": false
   },
   "outputs": [
    {
     "name": "stdout",
     "output_type": "stream",
     "text": [
      "2\n"
     ]
    }
   ],
   "source": [
    "print(X.shape)"
   ]
  },
  {
   "cell_type": "markdown",
   "metadata": {},
   "source": [
    "Now that we've created some vectors and matrices, we can access them similarly to MATLAB.\n",
    "Python uses square brackets instead of parentheses.\n",
    "NOTE: Python uses zero-based numbering (the first element is 0, not 1)"
   ]
  },
  {
   "cell_type": "markdown",
   "metadata": {},
   "source": [
    "`X=[[4, 5, 6],\n",
    "   [7, 8, 9]]`"
   ]
  },
  {
   "cell_type": "code",
   "execution_count": 9,
   "metadata": {
    "collapsed": false
   },
   "outputs": [
    {
     "name": "stdout",
     "output_type": "stream",
     "text": [
      "4\n"
     ]
    }
   ],
   "source": [
    "print(X[0,0])"
   ]
  },
  {
   "cell_type": "code",
   "execution_count": 10,
   "metadata": {
    "collapsed": false
   },
   "outputs": [
    {
     "name": "stdout",
     "output_type": "stream",
     "text": [
      "8\n"
     ]
    }
   ],
   "source": [
    "print(X[1,1])"
   ]
  },
  {
   "cell_type": "code",
   "execution_count": 11,
   "metadata": {
    "collapsed": false
   },
   "outputs": [
    {
     "name": "stdout",
     "output_type": "stream",
     "text": [
      "[4 5 6]\n"
     ]
    }
   ],
   "source": [
    "print(X[0,:] )"
   ]
  },
  {
   "cell_type": "code",
   "execution_count": 12,
   "metadata": {
    "collapsed": false
   },
   "outputs": [
    {
     "name": "stdout",
     "output_type": "stream",
     "text": [
      "[5 8]\n"
     ]
    }
   ],
   "source": [
    "print(X[:,1])"
   ]
  },
  {
   "cell_type": "markdown",
   "metadata": {},
   "source": [
    "To make an array of length 10, counting up from 0, use the __range()__ function. This is equivalent to 0:9 in MATLAB."
   ]
  },
  {
   "cell_type": "code",
   "execution_count": 13,
   "metadata": {
    "collapsed": false,
    "scrolled": true
   },
   "outputs": [
    {
     "name": "stdout",
     "output_type": "stream",
     "text": [
      "[0, 1, 2, 3, 4, 5, 6, 7, 8, 9]\n"
     ]
    }
   ],
   "source": [
    "print(range(10))\n"
   ]
  },
  {
   "cell_type": "markdown",
   "metadata": {},
   "source": [
    "If you want to create a vector or matrix of all ones just like the __ones()__ function in MATLAB, "
   ]
  },
  {
   "cell_type": "code",
   "execution_count": 14,
   "metadata": {
    "collapsed": false,
    "scrolled": true
   },
   "outputs": [
    {
     "name": "stdout",
     "output_type": "stream",
     "text": [
      "[[ 1.  1.  1. ...,  1.  1.  1.]\n",
      " [ 1.  1.  1. ...,  1.  1.  1.]\n",
      " [ 1.  1.  1. ...,  1.  1.  1.]\n",
      " ..., \n",
      " [ 1.  1.  1. ...,  1.  1.  1.]\n",
      " [ 1.  1.  1. ...,  1.  1.  1.]\n",
      " [ 1.  1.  1. ...,  1.  1.  1.]]\n"
     ]
    }
   ],
   "source": [
    "print(np.ones( (50,50) ))\n"
   ]
  },
  {
   "cell_type": "markdown",
   "metadata": {},
   "source": [
    "Let's now look at some basic matrix manipulation.\n",
    "The __np.transpose()__ function computes the transpose of __X__, equivalent to __X'__ in MATLAB."
   ]
  },
  {
   "cell_type": "code",
   "execution_count": 15,
   "metadata": {
    "collapsed": false
   },
   "outputs": [
    {
     "name": "stdout",
     "output_type": "stream",
     "text": [
      "[[4 7]\n",
      " [5 8]\n",
      " [6 9]]\n"
     ]
    }
   ],
   "source": [
    "print( np.transpose(X))"
   ]
  },
  {
   "cell_type": "markdown",
   "metadata": {},
   "source": [
    "In Python, using standard operations like (__*, /, +, -__) on matrices works element wise.\n",
    "\n",
    "Equivalently in MATLAB we would run __X.*X__."
   ]
  },
  {
   "cell_type": "code",
   "execution_count": 16,
   "metadata": {
    "collapsed": false
   },
   "outputs": [
    {
     "name": "stdout",
     "output_type": "stream",
     "text": [
      "[[16 25 36]\n",
      " [49 64 81]]\n"
     ]
    }
   ],
   "source": [
    "print(X*X)"
   ]
  },
  {
   "cell_type": "code",
   "execution_count": 17,
   "metadata": {
    "collapsed": false
   },
   "outputs": [
    {
     "name": "stdout",
     "output_type": "stream",
     "text": [
      "[[ 5  6  7]\n",
      " [ 8  9 10]]\n"
     ]
    }
   ],
   "source": [
    "print(X+1)"
   ]
  },
  {
   "cell_type": "code",
   "execution_count": 18,
   "metadata": {
    "collapsed": false
   },
   "outputs": [
    {
     "name": "stdout",
     "output_type": "stream",
     "text": [
      "[[ 5  7  9]\n",
      " [ 8 10 12]]\n"
     ]
    }
   ],
   "source": [
    "print(X+b)"
   ]
  },
  {
   "cell_type": "markdown",
   "metadata": {},
   "source": [
    "If we want to multiply two matrices together like __(X')*X__ in MATLAB, we'll need to use the __np.dot()__ function."
   ]
  },
  {
   "cell_type": "code",
   "execution_count": null,
   "metadata": {
    "collapsed": false
   },
   "outputs": [],
   "source": [
    "print(np.dot(np.transpose(X),X))"
   ]
  },
  {
   "cell_type": "markdown",
   "metadata": {},
   "source": [
    "More complicated functions can be found in the __Numpy__ documentation online.\n",
    "One example is __np.linalg.eig()__"
   ]
  },
  {
   "cell_type": "markdown",
   "metadata": {
    "collapsed": true
   },
   "source": [
    "### For Loops, If Statements, and Custom Functions"
   ]
  },
  {
   "cell_type": "markdown",
   "metadata": {},
   "source": [
    "Recall in MATLAB, a for loop would look like:\n",
    "\n",
    "`count = 0;\n",
    "for i=0:9\n",
    "    count = count+1;\n",
    "end\n",
    "count`"
   ]
  },
  {
   "cell_type": "code",
   "execution_count": null,
   "metadata": {
    "collapsed": false
   },
   "outputs": [],
   "source": [
    "count = 0\n",
    "for i in range(10):\n",
    "    count = count+1\n",
    "print(count)"
   ]
  },
  {
   "cell_type": "markdown",
   "metadata": {},
   "source": [
    "MATLAB if statement:\n",
    "\n",
    "`\n",
    "if count==5\n",
    "    \"the count is 5\"\n",
    "elseif count <5\n",
    "    \"the count is less than 5\"\n",
    "else\n",
    "    \"the count is greater than 5\"\n",
    "end\n",
    "`"
   ]
  },
  {
   "cell_type": "code",
   "execution_count": null,
   "metadata": {
    "collapsed": false
   },
   "outputs": [],
   "source": [
    "if count==5:\n",
    "    print(\"the count is 5\")\n",
    "elif count <5:\n",
    "    print(\"the count is less than 5\")\n",
    "else:\n",
    "    print(\"the count is greater than 5\")"
   ]
  },
  {
   "cell_type": "markdown",
   "metadata": {},
   "source": [
    "MATLAB function:\n",
    "\n",
    "`function z = myfunc(x,y)\n",
    "    z=x+y;\n",
    "end\n",
    "myfunc(4,6)`"
   ]
  },
  {
   "cell_type": "code",
   "execution_count": null,
   "metadata": {
    "collapsed": false
   },
   "outputs": [],
   "source": [
    "def myfunc(x,y): \n",
    "    return x+y\n",
    "\n",
    "print(myfunc(4,6))"
   ]
  },
  {
   "cell_type": "markdown",
   "metadata": {},
   "source": [
    "### Loading The Digits Dataset"
   ]
  },
  {
   "cell_type": "markdown",
   "metadata": {},
   "source": [
    "First make sure you have these four files in the same directory as your python script."
   ]
  },
  {
   "cell_type": "code",
   "execution_count": 19,
   "metadata": {
    "collapsed": true
   },
   "outputs": [],
   "source": [
    "trainimages=np.load(\"trainimages.npy\")\n",
    "testimages=np.load(\"testimages.npy\")\n",
    "trainlabels=np.load(\"trainlabels.npy\")\n",
    "testlabels=np.load(\"testlabels.npy\")"
   ]
  },
  {
   "cell_type": "markdown",
   "metadata": {},
   "source": [
    "__trainimages__ is a (60,000x784) matrix containing all of the training images\n",
    "__trainlabels__ is a (60,000x1) column vector containing all of the corresponding labels"
   ]
  },
  {
   "cell_type": "markdown",
   "metadata": {},
   "source": [
    "### Plotting"
   ]
  },
  {
   "cell_type": "markdown",
   "metadata": {},
   "source": [
    "We'll first need to import the __matplotlib__ package in order to use the plotting functions."
   ]
  },
  {
   "cell_type": "code",
   "execution_count": 20,
   "metadata": {
    "collapsed": false
   },
   "outputs": [
    {
     "name": "stderr",
     "output_type": "stream",
     "text": [
      "/Users/ryanshiroma/anaconda/lib/python2.7/site-packages/matplotlib/font_manager.py:273: UserWarning: Matplotlib is building the font cache using fc-list. This may take a moment.\n",
      "  warnings.warn('Matplotlib is building the font cache using fc-list. This may take a moment.')\n"
     ]
    }
   ],
   "source": [
    "%matplotlib inline\n",
    "import matplotlib.pyplot as plt"
   ]
  },
  {
   "cell_type": "markdown",
   "metadata": {},
   "source": [
    "To plot a digit like we've done in MATLAB with __imagesc()__, use the __plt.imshow()__ function "
   ]
  },
  {
   "cell_type": "code",
   "execution_count": 21,
   "metadata": {
    "collapsed": false,
    "scrolled": true
   },
   "outputs": [
    {
     "data": {
      "text/plain": [
       "<matplotlib.image.AxesImage at 0x11952bc90>"
      ]
     },
     "execution_count": 21,
     "metadata": {},
     "output_type": "execute_result"
    },
    {
     "data": {
      "image/png": "[encoded data removed]",
      "text/plain": [
       "<matplotlib.figure.Figure at 0x117087490>"
      ]
     },
     "metadata": {},
     "output_type": "display_data"
    }
   ],
   "source": [
    "plt.figure() \n",
    "plt.imshow(trainimages[0].reshape(28,28),cmap=plt.gray())"
   ]
  },
  {
   "cell_type": "code",
   "execution_count": 22,
   "metadata": {
    "collapsed": false
   },
   "outputs": [
    {
     "name": "stdout",
     "output_type": "stream",
     "text": [
      "5\n"
     ]
    }
   ],
   "source": [
    "print(trainlabels[0])"
   ]
  },
  {
   "cell_type": "markdown",
   "metadata": {},
   "source": [
    "Now let's do a simple MATLAB style plot. Syntax is essentially the same as MATLAB"
   ]
  },
  {
   "cell_type": "code",
   "execution_count": 23,
   "metadata": {
    "collapsed": false
   },
   "outputs": [
    {
     "data": {
      "image/png": "[encoded data removed]",
      "text/plain": [
       "<matplotlib.figure.Figure at 0x1194cdb50>"
      ]
     },
     "metadata": {},
     "output_type": "display_data"
    }
   ],
   "source": [
    "plt.figure()\n",
    "x=range(1,21)\n",
    "y=np.random.poisson(5,20)\n",
    "plt.plot(x,y)\n",
    "plt.xlabel(\"Week #\")\n",
    "plt.ylabel(\"# Milk Teas drank\")\n",
    "plt.title(\"Too Many Milk Tea's\")\n",
    "plt.grid()"
   ]
  },
  {
   "cell_type": "markdown",
   "metadata": {
    "collapsed": true
   },
   "source": [
    "### Running K-Nearest Neighbors on the dataset"
   ]
  },
  {
   "cell_type": "markdown",
   "metadata": {},
   "source": [
    "Just like before, we'll need to import some libraries.\n",
    "__Sklearn__ contains functions like knn, kmeans, pca, cross validation, etc.\n",
    "__Timeit__ gives us functionality similar to the __tic()__ and __toc()__ functions in MATLAB"
   ]
  },
  {
   "cell_type": "code",
   "execution_count": 25,
   "metadata": {
    "collapsed": true
   },
   "outputs": [],
   "source": [
    "from sklearn import neighbors\n",
    "from sklearn import metrics\n",
    "\n",
    "import timeit"
   ]
  },
  {
   "cell_type": "markdown",
   "metadata": {},
   "source": [
    "We can now run K-nearest neighbors on the digits dataset. *(The first 5000 digits in the training set)*"
   ]
  },
  {
   "cell_type": "code",
   "execution_count": 28,
   "metadata": {
    "collapsed": false
   },
   "outputs": [
    {
     "name": "stdout",
     "output_type": "stream",
     "text": [
      "Error Rate: 0.082\n",
      "2.38745307922 seconds\n"
     ]
    }
   ],
   "source": [
    "begin=timeit.default_timer()\n",
    "\n",
    "mdl= neighbors.KNeighborsClassifier(n_neighbors=3,weights=\"uniform\",n_jobs=2)\n",
    "mdl.fit(trainimages[:5000], trainlabels[:5000])\n",
    "pred=mdl.predict(testimages[:500])\n",
    "\n",
    "score=1-metrics.accuracy_score(testlabels[:500],pred)\n",
    "\n",
    "print(\"Error Rate: \" + str(score))\n",
    "print(str(timeit.default_timer()-begin)+ \" seconds\")"
   ]
  },
  {
   "cell_type": "markdown",
   "metadata": {},
   "source": [
    "### Running PCA on the dataset"
   ]
  },
  {
   "cell_type": "markdown",
   "metadata": {},
   "source": [
    "To speed up the K-NN computation time we'll need to reduce the dimensionality of the dataset.\n",
    "*The code to use the SVD method on the dataset is in the script file*"
   ]
  },
  {
   "cell_type": "code",
   "execution_count": 27,
   "metadata": {
    "collapsed": true
   },
   "outputs": [],
   "source": [
    "from sklearn import decomposition"
   ]
  },
  {
   "cell_type": "code",
   "execution_count": 29,
   "metadata": {
    "collapsed": false
   },
   "outputs": [
    {
     "data": {
      "text/plain": [
       "PCA(copy=True, n_components=None, whiten=False)"
      ]
     },
     "execution_count": 29,
     "metadata": {},
     "output_type": "execute_result"
    }
   ],
   "source": [
    "pca =  decomposition.PCA()\n",
    "pca.fit(trainimages)"
   ]
  },
  {
   "cell_type": "markdown",
   "metadata": {},
   "source": [
    "Within the __pca__ object, we can see the explained variance for each principal component."
   ]
  },
  {
   "cell_type": "code",
   "execution_count": 30,
   "metadata": {
    "collapsed": false
   },
   "outputs": [
    {
     "name": "stdout",
     "output_type": "stream",
     "text": [
      "[  9.70463455e-02   7.09596872e-02   6.16915934e-02   5.38946688e-02\n",
      "   4.86878268e-02   4.31228653e-02   3.27192284e-02   2.88388506e-02\n",
      "   2.76201721e-02   2.35699285e-02   2.10918002e-02   2.02298816e-02\n",
      "   1.71581116e-02   1.69210881e-02   1.57863703e-02   1.48294736e-02\n",
      "   1.32456152e-02   1.27689969e-02   1.18725887e-02   1.15268975e-02\n",
      "   1.06616141e-02   1.00671034e-02   9.53569263e-03   9.12539382e-03\n",
      "   8.83404538e-03   8.39320291e-03   8.12575780e-03   7.86363985e-03\n",
      "   7.44729675e-03   6.90858485e-03   6.58093952e-03   6.48148172e-03\n",
      "   6.02613483e-03   5.86580345e-03   5.70019707e-03   5.43627469e-03\n",
      "   5.05784014e-03   4.87858430e-03   4.81427833e-03   4.72265249e-03\n",
      "   4.56745457e-03   4.44835145e-03   4.18500416e-03   3.98214022e-03\n",
      "   3.84973781e-03   3.75102903e-03   3.62008298e-03   3.51590291e-03\n",
      "   3.40056256e-03   3.21873114e-03   3.19016445e-03   3.12805432e-03\n",
      "   2.95981462e-03   2.88955099e-03   2.84129265e-03   2.71434546e-03\n",
      "   2.69519980e-03   2.58472189e-03   2.53770268e-03   2.44780467e-03\n",
      "   2.40506465e-03   2.39261938e-03   2.30407272e-03   2.21531442e-03\n",
      "   2.13720649e-03   2.07224814e-03   2.03041988e-03   1.96782197e-03\n",
      "   1.92852027e-03   1.88631797e-03   1.86976034e-03   1.81082147e-03\n",
      "   1.77561748e-03   1.74898142e-03   1.65757607e-03   1.63893437e-03\n",
      "   1.61461416e-03   1.55116245e-03   1.47612917e-03   1.43175549e-03\n",
      "   1.42093480e-03   1.41152821e-03   1.40173896e-03   1.35735970e-03\n",
      "   1.33846747e-03   1.32395641e-03   1.30156882e-03   1.25872821e-03\n",
      "   1.22827676e-03   1.21584698e-03   1.17034512e-03   1.14873215e-03\n",
      "   1.13243656e-03   1.10885338e-03   1.09001331e-03   1.06922956e-03\n",
      "   1.04195741e-03   1.04006322e-03   1.01255847e-03   1.00526994e-03\n",
      "   9.84016806e-04   9.49694251e-04   9.41340288e-04   9.16163670e-04\n",
      "   9.07847774e-04   8.96870915e-04   8.65390757e-04   8.55169434e-04\n",
      "   8.45618546e-04   8.22491769e-04   7.91581522e-04   7.85936427e-04\n",
      "   7.84604519e-04   7.68826634e-04   7.64012686e-04   7.53086817e-04\n",
      "   7.36783317e-04   7.27130915e-04   7.19647272e-04   7.06814171e-04\n",
      "   6.95423398e-04   6.92158646e-04   6.83304213e-04   6.74057694e-04\n",
      "   6.66874694e-04   6.45260268e-04   6.35593606e-04   6.31643343e-04\n",
      "   6.22934138e-04   6.05291221e-04   6.03586261e-04   5.94478101e-04\n",
      "   5.88307506e-04   5.86518261e-04   5.81337721e-04   5.76829130e-04\n",
      "   5.65367634e-04   5.54764643e-04   5.35168278e-04   5.25922573e-04\n",
      "   5.25089621e-04   5.10254817e-04   5.02970361e-04   5.01076749e-04\n",
      "   4.98712179e-04   4.91067651e-04   4.85534838e-04   4.82845819e-04\n",
      "   4.74012806e-04   4.68349084e-04   4.66597063e-04   4.63328324e-04\n",
      "   4.59291594e-04   4.50378575e-04   4.48805193e-04   4.42709163e-04\n",
      "   4.36672097e-04   4.27446590e-04   4.24977625e-04   4.22010227e-04\n",
      "   4.15514165e-04   4.09635337e-04   4.00821620e-04   3.97882628e-04\n",
      "   3.94080125e-04   3.90492001e-04   3.85850581e-04   3.79774341e-04\n",
      "   3.78897559e-04   3.73936782e-04   3.69415095e-04   3.65147978e-04\n",
      "   3.63812200e-04   3.59875616e-04   3.54640855e-04   3.52896081e-04\n",
      "   3.47287190e-04   3.45956127e-04   3.41446459e-04   3.37643723e-04\n",
      "   3.37093777e-04   3.30225361e-04   3.28354305e-04   3.25904868e-04\n",
      "   3.22942389e-04   3.21267376e-04   3.17297410e-04   3.16173711e-04\n",
      "   3.10941134e-04   3.09535331e-04   3.05964350e-04   3.03273555e-04\n",
      "   3.02408647e-04   3.01567547e-04   2.96704762e-04   2.95744685e-04\n",
      "   2.93470046e-04   2.92672048e-04   2.87751027e-04   2.84343725e-04\n",
      "   2.81965069e-04   2.79069325e-04   2.75734434e-04   2.72473553e-04\n",
      "   2.69434182e-04   2.67705851e-04   2.65119626e-04   2.64325441e-04\n",
      "   2.61882087e-04   2.59449676e-04   2.58556131e-04   2.56920670e-04\n",
      "   2.54735787e-04   2.52811180e-04   2.52288883e-04   2.49561999e-04\n",
      "   2.48515164e-04   2.46074342e-04   2.43954011e-04   2.41861213e-04\n",
      "   2.40966110e-04   2.40443420e-04   2.38268942e-04   2.36852648e-04\n",
      "   2.32576596e-04   2.31307480e-04   2.30126563e-04   2.28085526e-04\n",
      "   2.27582350e-04   2.22774644e-04   2.21861308e-04   2.20441289e-04\n",
      "   2.17863198e-04   2.16655390e-04   2.15163105e-04   2.14193598e-04\n",
      "   2.12854357e-04   2.10370068e-04   2.09753896e-04   2.06961107e-04\n",
      "   2.04723299e-04   2.04270735e-04   2.01312912e-04   2.00982773e-04\n",
      "   1.98995913e-04   1.97629459e-04   1.95826695e-04   1.93728614e-04\n",
      "   1.92857653e-04   1.91771833e-04   1.91541534e-04   1.89077022e-04\n",
      "   1.88011676e-04   1.86390855e-04   1.85846933e-04   1.84616947e-04\n",
      "   1.83695243e-04   1.83145894e-04   1.81879223e-04   1.79865441e-04\n",
      "   1.77554190e-04   1.76688030e-04   1.75960828e-04   1.73882290e-04\n",
      "   1.73427921e-04   1.72643893e-04   1.71383886e-04   1.70035550e-04\n",
      "   1.69298917e-04   1.68003869e-04   1.66919504e-04   1.66451180e-04\n",
      "   1.64203302e-04   1.63480712e-04   1.62657598e-04   1.61888369e-04\n",
      "   1.60890369e-04   1.59842748e-04   1.58831841e-04   1.57350616e-04\n",
      "   1.56736161e-04   1.54896014e-04   1.53807065e-04   1.53067143e-04\n",
      "   1.52038119e-04   1.50009844e-04   1.49663407e-04   1.48228908e-04\n",
      "   1.47673491e-04   1.46126025e-04   1.44651305e-04   1.43232231e-04\n",
      "   1.42722056e-04   1.42068602e-04   1.41749100e-04   1.40491320e-04\n",
      "   1.38237025e-04   1.37971510e-04   1.36840521e-04   1.35974493e-04\n",
      "   1.35795330e-04   1.34508489e-04   1.33617723e-04   1.32342218e-04\n",
      "   1.30701330e-04   1.30188622e-04   1.29161999e-04   1.28110580e-04\n",
      "   1.27514781e-04   1.27216612e-04   1.26337894e-04   1.25858758e-04\n",
      "   1.24730213e-04   1.23561287e-04   1.22620957e-04   1.21566693e-04\n",
      "   1.21026249e-04   1.19966789e-04   1.19421260e-04   1.18947421e-04\n",
      "   1.17871125e-04   1.17059237e-04   1.16494346e-04   1.16098308e-04\n",
      "   1.14529008e-04   1.14216440e-04   1.12405680e-04   1.11274305e-04\n",
      "   1.10538494e-04   1.10428613e-04   1.10058601e-04   1.08973232e-04\n",
      "   1.08322383e-04   1.07594788e-04   1.07003449e-04   1.06204112e-04\n",
      "   1.05927771e-04   1.05048690e-04   1.03419567e-04   1.02247766e-04\n",
      "   1.02043858e-04   1.00845056e-04   1.00263984e-04   9.95965529e-05\n",
      "   9.93723879e-05   9.81244666e-05   9.75941221e-05   9.68301902e-05\n",
      "   9.55229261e-05   9.45444772e-05   9.37964214e-05   9.37219156e-05\n",
      "   9.24921260e-05   9.15858618e-05   9.13960685e-05   9.06717105e-05\n",
      "   9.00744126e-05   8.93689721e-05   8.91534291e-05   8.82603927e-05\n",
      "   8.73273311e-05   8.63085661e-05   8.55728867e-05   8.51555087e-05\n",
      "   8.46013063e-05   8.33118538e-05   8.29770288e-05   8.24966337e-05\n",
      "   8.19095731e-05   8.10901911e-05   8.09026606e-05   7.96083332e-05\n",
      "   7.94676671e-05   7.86239543e-05   7.80599948e-05   7.74245200e-05\n",
      "   7.65896621e-05   7.58027236e-05   7.46090736e-05   7.38432645e-05\n",
      "   7.35685680e-05   7.28146697e-05   7.27129882e-05   7.20664466e-05\n",
      "   7.14125854e-05   7.08047955e-05   6.96505376e-05   6.92444955e-05\n",
      "   6.82987520e-05   6.79372170e-05   6.70567824e-05   6.62337334e-05\n",
      "   6.52417802e-05   6.42017549e-05   6.37100311e-05   6.34538737e-05\n",
      "   6.20322608e-05   6.12856675e-05   6.03183908e-05   5.99274317e-05\n",
      "   5.93673940e-05   5.87283139e-05   5.86195310e-05   5.73856451e-05\n",
      "   5.67246498e-05   5.63738176e-05   5.56162631e-05   5.49005199e-05\n",
      "   5.47380005e-05   5.44719551e-05   5.33293278e-05   5.27551565e-05\n",
      "   5.25470205e-05   5.21975453e-05   5.18513043e-05   5.10143691e-05\n",
      "   5.03812407e-05   4.97544243e-05   4.90672064e-05   4.87002035e-05\n",
      "   4.79428018e-05   4.72073043e-05   4.66602141e-05   4.64424193e-05\n",
      "   4.56012203e-05   4.49076506e-05   4.37127856e-05   4.29260508e-05\n",
      "   4.26086735e-05   4.23848360e-05   4.21737313e-05   4.17843003e-05\n",
      "   4.13865419e-05   4.08452688e-05   4.02860205e-05   3.85880885e-05\n",
      "   3.82516992e-05   3.81415557e-05   3.78831792e-05   3.73239527e-05\n",
      "   3.70737398e-05   3.65891829e-05   3.57645040e-05   3.53572250e-05\n",
      "   3.52520983e-05   3.48690701e-05   3.45494882e-05   3.43829270e-05\n",
      "   3.34021461e-05   3.29988798e-05   3.21978441e-05   3.19389437e-05\n",
      "   3.16402511e-05   3.10127180e-05   3.04085352e-05   3.01557175e-05\n",
      "   2.99057392e-05   2.92131463e-05   2.88665178e-05   2.85175029e-05\n",
      "   2.80616405e-05   2.79072356e-05   2.75170023e-05   2.69450757e-05\n",
      "   2.57726133e-05   2.52913342e-05   2.51622823e-05   2.48276101e-05\n",
      "   2.46873733e-05   2.43559662e-05   2.43133818e-05   2.42486622e-05\n",
      "   2.37253407e-05   2.33510782e-05   2.32170205e-05   2.25183430e-05\n",
      "   2.23649349e-05   2.21183000e-05   2.14321717e-05   2.12948980e-05\n",
      "   2.10670387e-05   2.08556685e-05   2.03765085e-05   2.00892755e-05\n",
      "   1.98642010e-05   1.96243418e-05   1.95140965e-05   1.89583170e-05\n",
      "   1.84491819e-05   1.81860232e-05   1.81020278e-05   1.79567705e-05\n",
      "   1.75882487e-05   1.74097186e-05   1.63585264e-05   1.61728403e-05\n",
      "   1.61081734e-05   1.59038191e-05   1.55387133e-05   1.52056045e-05\n",
      "   1.51661916e-05   1.49791031e-05   1.47554301e-05   1.45780659e-05\n",
      "   1.43544576e-05   1.41763703e-05   1.39613676e-05   1.37890811e-05\n",
      "   1.36741655e-05   1.33327912e-05   1.31030720e-05   1.25484985e-05\n",
      "   1.23812388e-05   1.21852736e-05   1.19994402e-05   1.19118895e-05\n",
      "   1.17762629e-05   1.17301770e-05   1.13784999e-05   1.13161623e-05\n",
      "   1.12460939e-05   1.10023493e-05   1.09366993e-05   1.05696436e-05\n",
      "   1.05381087e-05   1.02317099e-05   1.00217567e-05   9.56695294e-06\n",
      "   9.37183631e-06   9.25983386e-06   9.22214349e-06   8.87102760e-06\n",
      "   8.80969310e-06   8.59220290e-06   8.16011561e-06   7.96981658e-06\n",
      "   7.86707642e-06   7.73327429e-06   7.64091601e-06   7.57691987e-06\n",
      "   7.53153336e-06   7.36842230e-06   7.26909911e-06   7.14860062e-06\n",
      "   6.96144662e-06   6.88105911e-06   6.71529006e-06   6.65551306e-06\n",
      "   6.53795360e-06   6.47006073e-06   6.13998600e-06   5.92711285e-06\n",
      "   5.72698127e-06   5.67706866e-06   5.55457336e-06   5.34930768e-06\n",
      "   5.27056500e-06   5.18234265e-06   5.03907995e-06   4.99520456e-06\n",
      "   4.93248263e-06   4.90082584e-06   4.81020197e-06   4.69311954e-06\n",
      "   4.62317803e-06   4.55445843e-06   4.19840990e-06   4.18486115e-06\n",
      "   4.01212446e-06   4.00088948e-06   3.94507879e-06   3.79938365e-06\n",
      "   3.78070627e-06   3.31212891e-06   3.23781569e-06   3.21258085e-06\n",
      "   3.17514218e-06   3.11953931e-06   3.08197968e-06   3.02568310e-06\n",
      "   3.01205114e-06   2.97050724e-06   2.95574614e-06   2.92431810e-06\n",
      "   2.80367180e-06   2.62841559e-06   2.54990891e-06   2.36150731e-06\n",
      "   2.31527520e-06   2.26289944e-06   2.24469522e-06   2.20764991e-06\n",
      "   2.15059299e-06   2.14653869e-06   2.10198186e-06   2.04138178e-06\n",
      "   1.87900071e-06   1.86499892e-06   1.85217573e-06   1.84443354e-06\n",
      "   1.80030963e-06   1.75430023e-06   1.61790308e-06   1.60533978e-06\n",
      "   1.50345261e-06   1.46086199e-06   1.41325813e-06   1.38829330e-06\n",
      "   1.31818331e-06   1.30320109e-06   1.28451143e-06   1.24649398e-06\n",
      "   1.11867632e-06   1.07837502e-06   1.04792502e-06   1.04150058e-06\n",
      "   1.03563707e-06   9.81208927e-07   9.66383709e-07   9.34484888e-07\n",
      "   9.15329736e-07   9.09775167e-07   8.98945302e-07   8.75359376e-07\n",
      "   8.33130855e-07   7.76058585e-07   7.44957902e-07   7.21825870e-07\n",
      "   6.66575147e-07   6.59717273e-07   6.36894640e-07   6.25437565e-07\n",
      "   6.25418977e-07   5.90766376e-07   5.82810230e-07   5.66859455e-07\n",
      "   5.60957574e-07   5.28153180e-07   5.22226287e-07   4.77480796e-07\n",
      "   4.71662474e-07   4.66111004e-07   4.32263420e-07   4.20405968e-07\n",
      "   4.06469184e-07   3.83878586e-07   3.62087974e-07   3.56651952e-07\n",
      "   3.12311045e-07   2.96825135e-07   2.78401586e-07   2.72666199e-07\n",
      "   2.57479286e-07   2.55542886e-07   2.41280617e-07   2.35690152e-07\n",
      "   2.29913482e-07   2.25347449e-07   2.14992738e-07   2.02511515e-07\n",
      "   2.01433323e-07   1.96140689e-07   1.76716171e-07   1.71223022e-07\n",
      "   1.50989536e-07   1.49712022e-07   1.36599027e-07   1.35295849e-07\n",
      "   1.28052406e-07   1.07047292e-07   9.44886693e-08   8.78370798e-08\n",
      "   8.32646379e-08   8.16783867e-08   6.84872177e-08   6.72349003e-08\n",
      "   6.42079740e-08   5.95868919e-08   5.54009922e-08   4.66112517e-08\n",
      "   4.59340512e-08   4.06502920e-08   3.93570012e-08   3.60429091e-08\n",
      "   3.56929633e-08   3.24022622e-08   3.08745882e-08   3.00478717e-08\n",
      "   2.89057436e-08   2.40244482e-08   1.88456877e-08   1.77255082e-08\n",
      "   1.66281406e-08   1.62043303e-08   1.11499858e-08   1.03067501e-08\n",
      "   1.00976827e-08   8.64458727e-09   7.95815147e-09   6.91630841e-09\n",
      "   6.88431046e-09   5.43212941e-09   4.96574293e-09   3.69813957e-09\n",
      "   3.02023562e-09   1.93999528e-09   8.67355132e-10   7.07950032e-10\n",
      "   6.92234714e-10   2.53510352e-10   2.36180631e-10   1.53095817e-11\n",
      "   1.69639619e-15   1.05999079e-15   9.33107271e-16   6.01679213e-16\n",
      "   5.23360747e-16   3.88936380e-16   3.45062535e-16   2.46981149e-16\n",
      "   1.47757605e-16   1.33589815e-16   1.24454233e-16   1.24454233e-16\n",
      "   1.24454233e-16   1.24454233e-16   1.24454233e-16   1.24454233e-16\n",
      "   1.24454233e-16   1.24454233e-16   1.24454233e-16   1.24454233e-16\n",
      "   1.24454233e-16   1.24454233e-16   1.24454233e-16   1.24454233e-16\n",
      "   1.24454233e-16   1.24454233e-16   1.24454233e-16   1.24454233e-16\n",
      "   1.24454233e-16   1.24454233e-16   1.24454233e-16   1.24454233e-16\n",
      "   1.24454233e-16   1.24454233e-16   1.24454233e-16   1.24454233e-16\n",
      "   1.24454233e-16   1.24454233e-16   1.24454233e-16   1.24454233e-16\n",
      "   1.24454233e-16   1.24454233e-16   1.24454233e-16   1.24454233e-16\n",
      "   1.24454233e-16   1.24454233e-16   1.24454233e-16   1.24454233e-16\n",
      "   1.24454233e-16   1.24454233e-16   1.24454233e-16   1.24454233e-16\n",
      "   1.24454233e-16   1.24454233e-16   1.24454233e-16   1.24454233e-16\n",
      "   1.24454233e-16   1.24454233e-16   1.24454233e-16   1.24454233e-16\n",
      "   1.24454233e-16   1.24454233e-16   1.24454233e-16   1.24454233e-16\n",
      "   1.24454233e-16   1.24454233e-16   1.24454233e-16   1.22167562e-16\n",
      "   6.45596800e-17   4.73240352e-17   4.55895929e-17   4.65458708e-18]\n"
     ]
    }
   ],
   "source": [
    "S=pca.explained_variance_ratio_\n",
    "print(S)"
   ]
  },
  {
   "cell_type": "code",
   "execution_count": 31,
   "metadata": {
    "collapsed": false
   },
   "outputs": [
    {
     "name": "stdout",
     "output_type": "stream",
     "text": [
      "153\n"
     ]
    }
   ],
   "source": [
    "cumulative_var = np.cumsum(S)\n",
    "cumulative_var = cumulative_var/cumulative_var[-1]\n",
    "s = np.where(cumulative_var>0.95)[0][0]\n",
    "print(s)"
   ]
  },
  {
   "cell_type": "markdown",
   "metadata": {},
   "source": [
    "Now let's create our reduced dimension matrix using the __pca.transform()__ function and select only the first __s__ columns."
   ]
  },
  {
   "cell_type": "code",
   "execution_count": 32,
   "metadata": {
    "collapsed": true
   },
   "outputs": [],
   "source": [
    "Y=pca.transform(trainimages)[:,:s]\n",
    "Ytest=pca.transform(testimages)[:,:s]"
   ]
  },
  {
   "cell_type": "markdown",
   "metadata": {},
   "source": [
    "We can now rerun K-NN on this reduced dataset"
   ]
  },
  {
   "cell_type": "code",
   "execution_count": 33,
   "metadata": {
    "collapsed": false
   },
   "outputs": [
    {
     "name": "stdout",
     "output_type": "stream",
     "text": [
      "0.078\n",
      "0.602170944214 seconds\n"
     ]
    }
   ],
   "source": [
    "begin=timeit.default_timer()\n",
    "mdl2= neighbors.KNeighborsClassifier(n_neighbors=3,weights=\"uniform\",n_jobs=2)\n",
    "mdl2.fit(Y[:5000],trainlabels[:5000])\n",
    "pred=mdl2.predict(Ytest[:500])\n",
    "score=1-metrics.accuracy_score(testlabels[:500],pred)\n",
    "print(score)\n",
    "print(str(timeit.default_timer()-begin)+ \" seconds\")"
   ]
  },
  {
   "cell_type": "markdown",
   "metadata": {},
   "source": [
    "## Extra Stuff"
   ]
  },
  {
   "cell_type": "markdown",
   "metadata": {},
   "source": [
    "Another Sklearn function we can use is __KFold()__"
   ]
  },
  {
   "cell_type": "code",
   "execution_count": 34,
   "metadata": {
    "collapsed": true
   },
   "outputs": [],
   "source": [
    "from sklearn import cross_validation"
   ]
  },
  {
   "cell_type": "code",
   "execution_count": 35,
   "metadata": {
    "collapsed": false
   },
   "outputs": [
    {
     "name": "stdout",
     "output_type": "stream",
     "text": [
      "k=2 Accuracy score:0.899493805182\n",
      "k=3 Accuracy score:0.900995306684\n",
      "k=4 Accuracy score:0.90249830669\n",
      "k=5 Accuracy score:0.898494302686\n",
      "k=6 Accuracy score:0.900500800201\n",
      "k=7 Accuracy score:0.8949967932\n",
      "k=8 Accuracy score:0.895990301679\n",
      "5.98860692978 seconds\n"
     ]
    },
    {
     "data": {
      "image/png": "[encoded data removed]",
      "text/plain": [
       "<matplotlib.figure.Figure at 0x11e72d8d0>"
      ]
     },
     "metadata": {},
     "output_type": "display_data"
    }
   ],
   "source": [
    "n=2000\n",
    "k=8\n",
    "kf = cross_validation.KFold(n=n, n_folds=6, shuffle=True)\n",
    "error=np.zeros((k,1))\n",
    "score=0\n",
    "\n",
    "start = timeit.default_timer()\n",
    "\n",
    "for k in range(2,k+1):\n",
    "    for train_index, test_index  in kf:\n",
    "        #WEIGHTING OPTIONS:linear_weights,'uniform', 'distance'\n",
    "        classifier= neighbors.KNeighborsClassifier(k,weights=\"uniform\",n_jobs=2)\n",
    "        classifier.fit(Y[train_index], trainlabels[train_index])\n",
    "        pred=classifier.predict(Y[test_index])\n",
    "        score+=metrics.accuracy_score(trainlabels[test_index],pred)\n",
    "    score/=6\n",
    "    print(\"k=\"+str(k) + \" Accuracy score:\" +str(score))\n",
    "    error[k-1]=score\n",
    "    score=0\n",
    "\n",
    "stop = timeit.default_timer()\n",
    "print str(stop-start) +\" seconds\"\n",
    "\n",
    "plt.plot(range(2,k+1), error[1:])\n",
    "plt.title(\"Classification Rate\")\n",
    "plt.xlabel(\"k-neighbors\")\n",
    "plt.ylabel(\"percent correct\")\n",
    "plt.show()"
   ]
  },
  {
   "cell_type": "markdown",
   "metadata": {},
   "source": [
    "More code is available in the script file posted in the shared drive."
   ]
  }
 ],
 "metadata": {
  "kernelspec": {
   "display_name": "Python 2",
   "language": "python",
   "name": "python2"
  },
  "language_info": {
   "codemirror_mode": {
    "name": "ipython",
    "version": 2
   },
   "file_extension": ".py",
   "mimetype": "text/x-python",
   "name": "python",
   "nbconvert_exporter": "python",
   "pygments_lexer": "ipython2",
   "version": "2.7.11"
  }
 },
 "nbformat": 4,
 "nbformat_minor": 0
}
